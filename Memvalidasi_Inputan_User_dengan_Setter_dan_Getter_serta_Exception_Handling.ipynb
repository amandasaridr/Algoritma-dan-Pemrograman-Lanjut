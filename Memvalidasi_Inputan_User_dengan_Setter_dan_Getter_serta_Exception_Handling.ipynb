{
 "cells": [
  {
   "cell_type": "code",
   "execution_count": 1,
   "id": "2402dbb4",
   "metadata": {},
   "outputs": [
    {
     "name": "stdout",
     "output_type": "stream",
     "text": [
      "BIODATA DARI PIHAK PENGGUNA\n",
      "\n",
      "Nama dari pengguna : Cynthia Aurora Astrophile\n",
      "Umur dari pengguna : Umur sudah melebihi batas yang ditentukan\n",
      "Jenis kelamin dari pengguna : Perempuan\n",
      "Email dari pengguna : Format email yang anda masukkan salah dan tidak sesuai aturan\n"
     ]
    }
   ],
   "source": [
    "class InvalidAgeException(Exception):\n",
    "    pass\n",
    "class InvalidGenderException(Exception):\n",
    "    pass\n",
    "class InvalidEmailException(Exception):\n",
    "    pass\n",
    "\n",
    "class orang:\n",
    "    def __init__ (self, nama_orang, umur_orang, jenis_kelamin_orang, email_orang):\n",
    "        self.nama_orang = nama_orang\n",
    "        self.umur_orang = umur_orang\n",
    "        self.jenis_kelamin_orang = jenis_kelamin_orang\n",
    "        self.email_orang = email_orang\n",
    "        \n",
    "    @property\n",
    "    def nama_orang(self):\n",
    "        return self.__nama_orang\n",
    "    @nama_orang.setter\n",
    "    def nama_orang(self, nama_orang):\n",
    "        self.__nama_orang = nama_orang\n",
    "        \n",
    "    @property\n",
    "    def umur_orang(self):\n",
    "        return self.__umur_orang\n",
    "    @umur_orang.setter\n",
    "    def umur_orang(self, umur_orang):\n",
    "        if umur_orang < 0 or umur_orang > 120:\n",
    "            raise InvalidAgeException(\"Umur dari pengguna : Umur sudah melebihi batas yang ditentukan\")\n",
    "        self.__umur_orang = umur_orang\n",
    "  \n",
    "    @property\n",
    "    def jenis_kelamin_orang(self):\n",
    "        return self.__jenis_kelamin_orang\n",
    "    @jenis_kelamin_orang.setter\n",
    "    def jenis_kelamin_orang(self, jenis_kelamin_orang):\n",
    "        if jenis_kelamin_orang not in (\"Perempuan\" , \"Laki-laki\"):\n",
    "            raise InvalidGenderException(\"Jenis kelamin tidak ada didaftar resmi\")\n",
    "        self.__jenis_kelamin_orang = jenis_kelamin_orang\n",
    "        \n",
    "    @property\n",
    "    def email_orang(self):\n",
    "        return self.__email_orang\n",
    "    @email_orang.setter\n",
    "    def email_orang(self, email_orang):\n",
    "        if not email_orang.endswith(\"@gmail.com\"):\n",
    "            raise InvalidEmailException(\"Email dari pengguna : Format email yang anda masukkan salah dan tidak sesuai aturan\")\n",
    "        self.__email_orang = email_orang\n",
    "\n",
    "biodata_orang = orang(\"Cynthia Aurora Astrophile\", 21, \"Perempuan\", \"cynthiaurorast@gmail.com\")\n",
    "print(\"BIODATA DARI PIHAK PENGGUNA\\n\")\n",
    "print(\"Nama dari pengguna :\", biodata_orang.nama_orang)\n",
    "\n",
    "try:\n",
    "    biodata_orang.umur_orang = 210\n",
    "except InvalidAgeException as e:\n",
    "    print(e)\n",
    "else : \n",
    "    print(\"Umur dari pengguna :\", biodata_orang.umur_orang)\n",
    "    \n",
    "try:\n",
    "    biodata_orang.jenis_kelamin_orang = \"Perempuan\"\n",
    "except InvalidGenderException as e:\n",
    "    print(e)\n",
    "else : \n",
    "    print(\"Jenis kelamin dari pengguna :\", biodata_orang.jenis_kelamin_orang)\n",
    "    \n",
    "try:\n",
    "    biodata_orang.email_orang = \"cynthiaurorastrphl\"\n",
    "except InvalidEmailException as e:\n",
    "    print(e)\n",
    "else :\n",
    "    print(\"Email dari pengguna :\", biodata_orang.email_orang)"
   ]
  },
  {
   "cell_type": "code",
   "execution_count": null,
   "id": "52a2d4be",
   "metadata": {},
   "outputs": [],
   "source": []
  }
 ],
 "metadata": {
  "kernelspec": {
   "display_name": "Python 3 (ipykernel)",
   "language": "python",
   "name": "python3"
  },
  "language_info": {
   "codemirror_mode": {
    "name": "ipython",
    "version": 3
   },
   "file_extension": ".py",
   "mimetype": "text/x-python",
   "name": "python",
   "nbconvert_exporter": "python",
   "pygments_lexer": "ipython3",
   "version": "3.9.12"
  }
 },
 "nbformat": 4,
 "nbformat_minor": 5
}
