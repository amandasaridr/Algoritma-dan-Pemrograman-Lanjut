{
 "cells": [
  {
   "cell_type": "code",
   "execution_count": 1,
   "id": "a420a14a",
   "metadata": {},
   "outputs": [],
   "source": [
    "class dosbing1:\n",
    "    def __init__(self, nama_dosen, gender, prodi, masa_kerja, bidang_penelitian, jmlh_publikasi, jmlh_bimbingan):\n",
    "        self.nama_dosen = nama_dosen\n",
    "        self.gender = gender\n",
    "        self.prodi = prodi\n",
    "        self.masa_kerja = masa_kerja\n",
    "        self.bidang_penelitian = bidang_penelitian\n",
    "        self.jmlh_publikasi = jmlh_publikasi\n",
    "        self.jmlh_bimbingan = jmlh_bimbingan\n",
    "        print(\"Nama Dosen pembimbing ini adalah\", self.nama_dosen, \"telah terdaftar di universitas dan fakultas\")\n",
    "    \n",
    "    def cek_hasil_dosbing1(self):\n",
    "        print(\"Biodata Dosen pembimbing\", \"\\nNama Dosen pertama :\", self.nama_dosen, \n",
    "              \"\\nDosen ini berjenis kelamin :\", self.gender, \"\\nDosen ini dari program studi :\", self.prodi, \n",
    "              \"\\nDosen ini bekerja disini selama :\", self.masa_kerja, \n",
    "              \"\\nDosen ini memiliki bidang yang teliti :\", self.bidang_penelitian, \n",
    "              \"\\nJumlah publikasi dosen ini berapa :\", self.jmlh_publikasi, \n",
    "              \"\\nJumlah bimbingannya dosen ini berapa :\", self.jmlh_bimbingan)\n",
    "        \n",
    "    def acc(self):\n",
    "        return True\n",
    "\n",
    "class dosbing2:\n",
    "    def __init__(self, nama_dosen2, gender2, prodi2, masa_kerja2, bidang_penelitian2, jmlh_publikasi2, jmlh_bimbingan2):\n",
    "        self.nama_dosen2 = nama_dosen2\n",
    "        self.gender2 = gender2\n",
    "        self.prodi2 = prodi2\n",
    "        self.masa_kerja2 = masa_kerja2\n",
    "        self.bidang_penelitian2 = bidang_penelitian2\n",
    "        self.jmlh_publikasi2 = jmlh_publikasi2\n",
    "        self.jmlh_bimbingan2 = jmlh_bimbingan2\n",
    "        print(\"Nama Dosen pembimbing ini adalah\", self.nama_dosen2, \"telah terdaftar di universitas dan fakultas\")\n",
    "    \n",
    "    def cek_hasil_dosbing2(self):\n",
    "        print(\"Biodata Dosen pembimbing\", \"\\nNama Dosen pertama :\", self.nama_dosen2, \n",
    "              \"\\nDosen ini berjenis kelamin :\", self.gender2, \"\\nDosen ini dari program studi :\", self.prodi2, \n",
    "              \"\\nDosen ini bekerja disini selama :\", self.masa_kerja2, \n",
    "              \"\\nDosen ini memiliki bidang yang teliti :\", self.bidang_penelitian2, \n",
    "              \"\\nJumlah publikasi dosen ini berapa :\", self.jmlh_publikasi2, \n",
    "              \"\\nJumlah bimbingannya dosen ini berapa :\", self.jmlh_bimbingan2)\n",
    "\n",
    "    def acc(self):\n",
    "        return True\n",
    "    \n",
    "class mahasiswa_angkatan_2020:\n",
    "    def __init__(self, nama_mahasiswa, gender_mahasiswa, prodi_mahasiswa, angkatan_mahasiswa, semester_mahasiswa, judul_skripsi, bidang_yang_diteliti, status_skripsi):\n",
    "        self.nama_mahasiswa = nama_mahasiswa\n",
    "        self.gender_mahasiswa = gender_mahasiswa\n",
    "        self.prodi_mahasiswa = prodi_mahasiswa\n",
    "        self.angkatan_mahasiswa = angkatan_mahasiswa\n",
    "        self.semester_mahasiswa = semester_mahasiswa\n",
    "        self.judul_skripsi = judul_skripsi\n",
    "        self.bidang_yang_diteliti = bidang_yang_diteliti\n",
    "        self.status_skripsi = status_skripsi\n",
    "        print(\"Nama mahasiswa angkatan 2020 adalah\", self.nama_mahasiswa, \"telah terdaftar di universitas dan fakultas\")\n",
    "        \n",
    "    def cek_hasil_mahasiswa_angkatan_2020(self):\n",
    "        print(\"Biodata mahasiswa\", \"\\nNama mahasiswa angkatan 2020 :\", self.nama_mahasiswa, \n",
    "              \"\\nJenis kelamin mahasiswa :\", self.gender_mahasiswa,\n",
    "              \"\\nProgram studi mahasiswa :\", self.prodi_mahasiswa, \n",
    "              \"\\nAngkatan berapa mahasiswa ini :\", self.angkatan_mahasiswa,\n",
    "              \"\\nSemester berapa mahasiswa ini :\", self.semester_mahasiswa, \n",
    "              \"\\nJudul apa yang mahasiswa ini buat :\", self.judul_skripsi,\n",
    "              \"\\nBidang apa yang mahasiswa ini teliti :\", self.bidang_yang_diteliti, \n",
    "              \"\\nStatus skripsi mahasiswa ini :\", self.status_skripsi)\n",
    "        \n",
    "    def update_mahasiswa(self, nama_mahasiswa, gender_mahasiswa, prodi_mahasiswa, angkatan_mahasiswa, semester_mahasiswa, judul_skripsi, bidang_yang_diteliti, status_skripsi):\n",
    "        self.nama_mahasiswa = nama_mahasiswa\n",
    "        self.gender_mahasiswa = gender_mahasiswa\n",
    "        self.prodi_mahasiswa = prodi_mahasiswa\n",
    "        self.angkatan_mahasiswa = angkatan_mahasiswa\n",
    "        self.semester_mahasiswa = semester_mahasiswa\n",
    "        self.judul_skripsi = judul_skripsi\n",
    "        self.bidang_yang_diteliti = bidang_yang_diteliti\n",
    "        self.status_skripsi = status_skripsi\n",
    "        print(\"Nama mahasiswa angkatan 2020 adalah\", self.nama_mahasiswa, \"telah DIUPDATE\")\n",
    "        \n",
    "    def acc_dosbing(self, dosbing1, dosbing2):\n",
    "        if dosbing1 and dosbing2 :\n",
    "            return (\"Judul skripsi telah diACC oleh dosen pembimbing 1 dan dosen pembimbing 2\")\n",
    "        else :\n",
    "            return (\"Judul skripsi belum diACC oleh dosen pembimbing 1 dan dosen pembimbing 2\")\n",
    "\n",
    "class mahasiswa_angkatan_2021:\n",
    "    def __init__(self, nama_mahasiswa, gender_mahasiswa, prodi_mahasiswa, angkatan_mahasiswa, semester_mahasiswa, judul_skripsi, bidang_yang_diteliti, status_skripsi):\n",
    "        self.nama_mahasiswa = nama_mahasiswa\n",
    "        self.gender_mahasiswa = gender_mahasiswa\n",
    "        self.prodi_mahasiswa = prodi_mahasiswa\n",
    "        self.angkatan_mahasiswa = angkatan_mahasiswa\n",
    "        self.semester_mahasiswa = semester_mahasiswa\n",
    "        self.judul_skripsi = judul_skripsi\n",
    "        self.bidang_yang_diteliti = bidang_yang_diteliti\n",
    "        self.status_skripsi = status_skripsi\n",
    "        print(\"Nama mahasiswa angkatan 2021 adalah\", self.nama_mahasiswa, \"telah terdaftar di universitas dan fakultas\")\n",
    "        \n",
    "    def cek_hasil_mahasiswa_angkatan_2021(self):\n",
    "        print(\"Biodata mahasiswa\", \"\\nNama mahasiswa angkatan 2020 :\", self.nama_mahasiswa, \n",
    "              \"\\nJenis kelamin mahasiswa :\", self.gender_mahasiswa,\n",
    "              \"\\nProgram studi mahasiswa :\", self.prodi_mahasiswa, \n",
    "              \"\\nAngkatan berapa mahasiswa ini :\", self.angkatan_mahasiswa,\n",
    "              \"\\nSemester berapa mahasiswa ini :\", self.semester_mahasiswa, \n",
    "              \"\\nJudul apa yang mahasiswa ini buat :\", self.judul_skripsi,\n",
    "              \"\\nBidang apa yang mahasiswa ini teliti :\", self.bidang_yang_diteliti, \n",
    "              \"\\nStatus skripsi mahasiswa ini :\", self.status_skripsi)\n",
    "        \n",
    "    def teruskan_skripsi_dari_angkatan_atas(self, mahasiswa_angkatan_2020, dosbing1, dosbing2):\n",
    "        if mahasiswa_angkatan_2020.status_skripsi and dosbing1 and dosbing2:\n",
    "            print(\"Mahasiswa angkatan 2021 melanjutkan judul skripsi yang sudah dibuat oleh angkatan 2020\")\n",
    "        else:\n",
    "            print(\"Mahasiswa angkatan 2021 tidak boleh melanjutkan judul skripsi yang sudah dibuat oleh angkatan 2020\")"
   ]
  },
  {
   "cell_type": "code",
   "execution_count": 2,
   "id": "2a8dae3e",
   "metadata": {},
   "outputs": [
    {
     "name": "stdout",
     "output_type": "stream",
     "text": [
      "Nama Dosen pembimbing ini adalah Yessica Chyntia Siallagan S.Kom, M.Kom telah terdaftar di universitas dan fakultas\n",
      "Biodata Dosen pembimbing \n",
      "Nama Dosen pertama : Yessica Chyntia Siallagan S.Kom, M.Kom \n",
      "Dosen ini berjenis kelamin : Perempuan \n",
      "Dosen ini dari program studi : Sistem informasi \n",
      "Dosen ini bekerja disini selama : 10 tahun \n",
      "Dosen ini memiliki bidang yang teliti : Data Mining \n",
      "Jumlah publikasi dosen ini berapa : 2 \n",
      "Jumlah bimbingannya dosen ini berapa : 7\n"
     ]
    }
   ],
   "source": [
    "dosen_pertama = dosbing1(\"Yessica Chyntia Siallagan S.Kom, M.Kom\",\"Perempuan\",\"Sistem informasi\",\"10 tahun\",\"Data Mining\",2,7)\n",
    "dosen_pertama.cek_hasil_dosbing1()"
   ]
  },
  {
   "cell_type": "code",
   "execution_count": 3,
   "id": "64eb31cc",
   "metadata": {},
   "outputs": [
    {
     "name": "stdout",
     "output_type": "stream",
     "text": [
      "Nama Dosen pembimbing ini adalah Aranza Putra Natlan S.SI, M.Kom telah terdaftar di universitas dan fakultas\n",
      "Biodata Dosen pembimbing \n",
      "Nama Dosen pertama : Aranza Putra Natlan S.SI, M.Kom \n",
      "Dosen ini berjenis kelamin : Laki-laki \n",
      "Dosen ini dari program studi : Informatika \n",
      "Dosen ini bekerja disini selama : 9 tahun \n",
      "Dosen ini memiliki bidang yang teliti : Pemograman \n",
      "Jumlah publikasi dosen ini berapa : 3 \n",
      "Jumlah bimbingannya dosen ini berapa : 8\n"
     ]
    }
   ],
   "source": [
    "dosen_kedua = dosbing2(\"Aranza Putra Natlan S.SI, M.Kom\",\"Laki-laki\",\"Informatika\",\"9 tahun\",\"Pemograman\",3,8)\n",
    "dosen_kedua.cek_hasil_dosbing2()"
   ]
  },
  {
   "cell_type": "code",
   "execution_count": 4,
   "id": "4724baba",
   "metadata": {},
   "outputs": [
    {
     "name": "stdout",
     "output_type": "stream",
     "text": [
      "Nama mahasiswa angkatan 2020 adalah Aksara Perdana Natlan telah terdaftar di universitas dan fakultas\n",
      "Biodata mahasiswa \n",
      "Nama mahasiswa angkatan 2020 : Aksara Perdana Natlan \n",
      "Jenis kelamin mahasiswa : Laki-laki \n",
      "Program studi mahasiswa : Sains Data \n",
      "Angkatan berapa mahasiswa ini : 2020 \n",
      "Semester berapa mahasiswa ini : 7 \n",
      "Judul apa yang mahasiswa ini buat : Analisis Pemograman Data \n",
      "Bidang apa yang mahasiswa ini teliti : IT \n",
      "Status skripsi mahasiswa ini : False\n"
     ]
    }
   ],
   "source": [
    "mahasiswa_2020 = mahasiswa_angkatan_2020(\"Aksara Perdana Natlan\",\"Laki-laki\", \"Sains Data\", 2020, 7, \"Analisis Pemograman Data\", \"IT\", False)\n",
    "mahasiswa_2020.cek_hasil_mahasiswa_angkatan_2020()"
   ]
  },
  {
   "cell_type": "code",
   "execution_count": 5,
   "id": "14377e60",
   "metadata": {},
   "outputs": [
    {
     "name": "stdout",
     "output_type": "stream",
     "text": [
      "Nama mahasiswa angkatan 2020 adalah Aksara Perdana natlan telah DIUPDATE\n"
     ]
    }
   ],
   "source": [
    "nama_mahasiswa = \"Aksara Perdana natlan\"\n",
    "gender_mahasiswa = \"Laki-laki\"\n",
    "prodi_mahasiswa = \"Sains Data\"\n",
    "angkatan_mahasiswa = 2020\n",
    "semester_mahasiswa = 7\n",
    "judul_skripsi = \"Analisis Pemograman Data\"\n",
    "bidang_yang_diteliti = \"IT\"\n",
    "status_skripsi = True\n",
    "\n",
    "mahasiswa_2020.update_mahasiswa(nama_mahasiswa, gender_mahasiswa, prodi_mahasiswa, angkatan_mahasiswa, semester_mahasiswa, judul_skripsi, bidang_yang_diteliti, status_skripsi)"
   ]
  },
  {
   "cell_type": "code",
   "execution_count": 6,
   "id": "d302fed3",
   "metadata": {},
   "outputs": [
    {
     "data": {
      "text/plain": [
       "True"
      ]
     },
     "execution_count": 6,
     "metadata": {},
     "output_type": "execute_result"
    }
   ],
   "source": [
    "dosen_pertama.acc()"
   ]
  },
  {
   "cell_type": "code",
   "execution_count": 7,
   "id": "e086922c",
   "metadata": {},
   "outputs": [
    {
     "data": {
      "text/plain": [
       "True"
      ]
     },
     "execution_count": 7,
     "metadata": {},
     "output_type": "execute_result"
    }
   ],
   "source": [
    "dosen_kedua.acc()"
   ]
  },
  {
   "cell_type": "code",
   "execution_count": 8,
   "id": "aba3ae07",
   "metadata": {},
   "outputs": [
    {
     "data": {
      "text/plain": [
       "'Judul skripsi telah diACC oleh dosen pembimbing 1 dan dosen pembimbing 2'"
      ]
     },
     "execution_count": 8,
     "metadata": {},
     "output_type": "execute_result"
    }
   ],
   "source": [
    "mahasiswa_2020.acc_dosbing(dosen_pertama.acc(), dosen_kedua.acc())"
   ]
  },
  {
   "cell_type": "code",
   "execution_count": 9,
   "id": "4afa4d0d",
   "metadata": {},
   "outputs": [
    {
     "name": "stdout",
     "output_type": "stream",
     "text": [
      "Nama mahasiswa angkatan 2021 adalah Kara Indira Natlan telah terdaftar di universitas dan fakultas\n",
      "Biodata mahasiswa \n",
      "Nama mahasiswa angkatan 2020 : Kara Indira Natlan \n",
      "Jenis kelamin mahasiswa : Perempuan \n",
      "Program studi mahasiswa : Sains Data \n",
      "Angkatan berapa mahasiswa ini : 2021 \n",
      "Semester berapa mahasiswa ini : 7 \n",
      "Judul apa yang mahasiswa ini buat : Analisis Pemograman Data Mining \n",
      "Bidang apa yang mahasiswa ini teliti : IT \n",
      "Status skripsi mahasiswa ini : True\n"
     ]
    }
   ],
   "source": [
    "mahasiswa_2021 = mahasiswa_angkatan_2021(\"Kara Indira Natlan\", \"Perempuan\", \"Sains Data\", 2021, 7, \"Analisis Pemograman Data Mining\", \"IT\", True)\n",
    "mahasiswa_2021.cek_hasil_mahasiswa_angkatan_2021()"
   ]
  },
  {
   "cell_type": "code",
   "execution_count": 10,
   "id": "c2afde75",
   "metadata": {},
   "outputs": [
    {
     "name": "stdout",
     "output_type": "stream",
     "text": [
      "Nama mahasiswa angkatan 2021 adalah Kara Indira Natlan telah terdaftar di universitas dan fakultas\n",
      "Mahasiswa angkatan 2021 melanjutkan judul skripsi yang sudah dibuat oleh angkatan 2020\n"
     ]
    }
   ],
   "source": [
    "mahasiswa_angkatan_2021 = mahasiswa_angkatan_2021(\"Kara Indira Natlan\", \"Perempuan\", \"Sains Data\", 2021, 8, \"Analisis Pemograman Data\", \"IT\", True)\n",
    "mahasiswa_2021.teruskan_skripsi_dari_angkatan_atas(mahasiswa_angkatan_2021, dosbing1, dosbing2)"
   ]
  },
  {
   "cell_type": "code",
   "execution_count": null,
   "id": "26332f9d",
   "metadata": {},
   "outputs": [],
   "source": []
  }
 ],
 "metadata": {
  "kernelspec": {
   "display_name": "Python 3 (ipykernel)",
   "language": "python",
   "name": "python3"
  },
  "language_info": {
   "codemirror_mode": {
    "name": "ipython",
    "version": 3
   },
   "file_extension": ".py",
   "mimetype": "text/x-python",
   "name": "python",
   "nbconvert_exporter": "python",
   "pygments_lexer": "ipython3",
   "version": "3.9.12"
  }
 },
 "nbformat": 4,
 "nbformat_minor": 5
}
