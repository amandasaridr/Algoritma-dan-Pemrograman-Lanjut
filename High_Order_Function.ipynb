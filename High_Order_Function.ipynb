{
 "cells": [
  {
   "cell_type": "markdown",
   "id": "46721fce",
   "metadata": {},
   "source": [
    "# Menjadi huruf besar semuanya (UPPERCASE)"
   ]
  },
  {
   "cell_type": "code",
   "execution_count": 1,
   "id": "49af5643",
   "metadata": {},
   "outputs": [
    {
     "data": {
      "text/plain": [
       "'HIDUP SAYA INGIN SENANG JIKA SAYA BELUM SENANG BELUM BOLEH MATI'"
      ]
     },
     "execution_count": 1,
     "metadata": {},
     "output_type": "execute_result"
    }
   ],
   "source": [
    "def huruf_besar_semua(tulisan):\n",
    "    result = list()\n",
    "    for t in tulisan :\n",
    "        result.append(mengubah(t))\n",
    "    return ''.join(result)\n",
    "\n",
    "# mengubah setiap huruf menjadi kode ascii dan temukan nilai huruf besarnya\n",
    "def mengubah(huruf):\n",
    "    kode_ascii = ord(huruf) \n",
    "    if( kode_ascii >= 97 and kode_ascii < 123):\n",
    "        return chr(kode_ascii - 32)\n",
    "    else:\n",
    "        return huruf\n",
    "\n",
    "huruf_besar_semua('hidup saya ingin senang jika saya belum senang belum boleh mati')"
   ]
  },
  {
   "cell_type": "markdown",
   "id": "136c09d6",
   "metadata": {},
   "source": [
    "# Menjadi huruf kecil semuanya (lowercase)"
   ]
  },
  {
   "cell_type": "code",
   "execution_count": 2,
   "id": "9ea2fb1a",
   "metadata": {},
   "outputs": [
    {
     "data": {
      "text/plain": [
       "'tapi kalau mati duluan belum senang itu rahasia yang diatas'"
      ]
     },
     "execution_count": 2,
     "metadata": {},
     "output_type": "execute_result"
    }
   ],
   "source": [
    "def huruf_kecil_semua(tulisan):\n",
    "    result = list()\n",
    "    for k in tulisan :\n",
    "        result.append(mengubah(k))\n",
    "    return ''.join(result)\n",
    "    \n",
    "def mengubah(huruf):\n",
    "    kode_ascii = ord(huruf) \n",
    "    if( kode_ascii >= 65 and kode_ascii < 91):\n",
    "        return chr(kode_ascii + 32)\n",
    "    else:\n",
    "        return huruf\n",
    "\n",
    "huruf_kecil_semua('tapi kalau mati duluan belum senang itu rahasia yang diatas')"
   ]
  },
  {
   "cell_type": "markdown",
   "id": "96c97126",
   "metadata": {},
   "source": [
    "# Menjadi huruf besar untuk huruf pertama saja dari suatu kata (Propercase)"
   ]
  },
  {
   "cell_type": "code",
   "execution_count": 3,
   "id": "4470f4c4",
   "metadata": {},
   "outputs": [
    {
     "data": {
      "text/plain": [
       "'Bukan tanggung jawabku untuk memenuhi ekspetasi semua orang'"
      ]
     },
     "execution_count": 3,
     "metadata": {},
     "output_type": "execute_result"
    }
   ],
   "source": [
    "def huruf_depan_besar(tulisan):\n",
    "    result = list()\n",
    "    for x in tulisan :\n",
    "        result.append(mengubah(x))\n",
    "    return ''.join(result)\n",
    "\n",
    "# mengubah huruf depan menggunakan huruf besar lalu huruf lainnya kecil menggunakan kode ascii\n",
    "def mengubah(huruf):\n",
    "    kode_ascii = ord(huruf)\n",
    "    if (kode_ascii >= 97 and kode_ascii < 123):\n",
    "        return chr(kode_ascii - 32)\n",
    "    elif (kode_ascii >= 65 and kode_ascii < 91):\n",
    "        return chr(kode_ascii + 32)\n",
    "    else:\n",
    "        return huruf\n",
    "    \n",
    "huruf_depan_besar(\"bUKAN TANGGUNG JAWABKU UNTUK MEMENUHI EKSPETASI SEMUA ORANG\")"
   ]
  },
  {
   "cell_type": "code",
   "execution_count": null,
   "id": "3048f02f",
   "metadata": {},
   "outputs": [],
   "source": []
  }
 ],
 "metadata": {
  "kernelspec": {
   "display_name": "Python 3 (ipykernel)",
   "language": "python",
   "name": "python3"
  },
  "language_info": {
   "codemirror_mode": {
    "name": "ipython",
    "version": 3
   },
   "file_extension": ".py",
   "mimetype": "text/x-python",
   "name": "python",
   "nbconvert_exporter": "python",
   "pygments_lexer": "ipython3",
   "version": "3.9.12"
  }
 },
 "nbformat": 4,
 "nbformat_minor": 5
}
