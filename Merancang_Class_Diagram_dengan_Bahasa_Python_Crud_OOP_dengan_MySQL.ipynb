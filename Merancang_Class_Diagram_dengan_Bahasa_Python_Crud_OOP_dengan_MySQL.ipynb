{
 "cells": [
  {
   "cell_type": "code",
   "execution_count": 1,
   "id": "36413b3f",
   "metadata": {},
   "outputs": [],
   "source": [
    "#!python -m pip install --upgrade pip"
   ]
  },
  {
   "cell_type": "code",
   "execution_count": 2,
   "id": "2ffc34c8",
   "metadata": {},
   "outputs": [
    {
     "name": "stdout",
     "output_type": "stream",
     "text": [
      "Requirement already satisfied: mysql-connector-python in c:\\users\\lenovo\\anaconda3\\lib\\site-packages (8.0.32)\n",
      "Requirement already satisfied: protobuf<=3.20.3,>=3.11.0 in c:\\users\\lenovo\\anaconda3\\lib\\site-packages (from mysql-connector-python) (3.19.1)\n",
      "Note: you may need to restart the kernel to use updated packages.\n"
     ]
    }
   ],
   "source": [
    "pip install mysql-connector-python"
   ]
  },
  {
   "cell_type": "code",
   "execution_count": 3,
   "id": "e39e60ce",
   "metadata": {},
   "outputs": [],
   "source": [
    "import mysql.connector"
   ]
  },
  {
   "cell_type": "code",
   "execution_count": 4,
   "id": "a3c5754b",
   "metadata": {},
   "outputs": [],
   "source": [
    "class Database:\n",
    "    my_db = my_cursor = None\n",
    "    \n",
    "    def __init__(self):\n",
    "        global my_db, my_cursor\n",
    "        my_db = mysql.connector.connect(\n",
    "            host=\"localhost\",\n",
    "            user=\"root\",\n",
    "            password=\"\",\n",
    "            database=\"db_rumah_sakit\"\n",
    "        \n",
    "        )\n",
    "        my_cursor = my_db.cursor()\n",
    "        \n",
    "    def __del__(self):\n",
    "        my_db.commit()"
   ]
  },
  {
   "cell_type": "code",
   "execution_count": 5,
   "id": "9bb9dca3",
   "metadata": {},
   "outputs": [],
   "source": [
    "class data_pasien(Database):\n",
    "    \n",
    "    def tampil_data_pasien(self, mode=\"DESC\"):\n",
    "        sql = \"SELECT * FROM data_pasien ORDER BY id_pasien {}\".format(mode)\n",
    "        \n",
    "        try:\n",
    "            my_cursor.execute(sql)\n",
    "            result = my_cursor.fetchall()\n",
    "        except Exception as e:\n",
    "            return e\n",
    "        \n",
    "        return result\n",
    "    \n",
    "    def insert_data_pasien(self, data):\n",
    "        sql = \"INSERT INTO data_pasien (nama_pasien, alamat_pasien, tanggal_lahir) VALUES (%s, %s, %s)\"\n",
    "        \n",
    "        try:\n",
    "            my_cursor.execute(sql, data)\n",
    "            my_db.commit()\n",
    "            print(my_cursor.rowcount, \"record inserted.\")    \n",
    "        except Exception as e:\n",
    "            return e\n",
    "        return my_cursor.lastrowid\n",
    "    \n",
    "    def insert_data_pasien_many(self, data):\n",
    "        \n",
    "        sql = \"INSERT INTO data_pasien (nama_pasien, alamat_pasien, tanggal_lahir) VALUES (%s, %s, %s)\"\n",
    "        \n",
    "        try:\n",
    "            my_cursor.executemany(sql, data)\n",
    "            my_db.commit()\n",
    "            print(my_cursor.rowcount, \"record inserted.\")    \n",
    "        except Exception as e:\n",
    "            return e\n",
    "        \n",
    "    def delete_data_pasien(self, id):\n",
    "        sql = \"DELETE FROM data_pasien WHERE id_pasien = {}\".format(id)\n",
    "        \n",
    "        try:\n",
    "            my_cursor.execute(sql)\n",
    "            my_db.commit()\n",
    "            print(my_cursor.rowcount, \"record deleted.\")\n",
    "        except Exception as e:\n",
    "            return e\n",
    "        \n",
    "    def update_data_pasien(self, id, data):\n",
    "        sql = \"UPDATE data_pasien SET nama_pasien = %s, alamat_pasien = %s, tanggal_lahir = %s WHERE id_pasien = {}\".format(id)\n",
    "        \n",
    "        val = (data[0], data[1], data[2])\n",
    "        \n",
    "        try:\n",
    "            my_cursor.execute(sql, val)\n",
    "            my_db.commit()\n",
    "            print(my_cursor.rowcount, \"record update.\")  \n",
    "        except Exception as e:\n",
    "            return e\n",
    "        \n",
    "    def truncate(self):\n",
    "        \n",
    "        sql = \"TRUNCATE TABLE data_pasien\"\n",
    "        try:\n",
    "            my_cursor.execute(sql)\n",
    "            my-db.commit()\n",
    "        except Exception as e:\n",
    "            return e\n",
    "        \n",
    "        return True"
   ]
  },
  {
   "cell_type": "code",
   "execution_count": 6,
   "id": "100938c8",
   "metadata": {},
   "outputs": [
    {
     "name": "stdout",
     "output_type": "stream",
     "text": [
      "3 record inserted.\n",
      "[(77, 'Mikhael Bright', 'Jl kenangan mantan', None), (76, 'Alex Abesamis', 'Jl melati putih', datetime.date(2018, 3, 3)), (75, 'Gabriel Leoxyrus', 'Jl kenanga mawar', datetime.date(2024, 8, 6)), (3, 'Mikael Bright', 'Jl kenangan mantan', datetime.date(2024, 8, 6)), (2, 'Alex Abesamis', 'Jl melati putih', datetime.date(2018, 3, 3)), (1, 'Gabriel Leoxyrus', 'Jl kenanga mawar', datetime.date(2024, 8, 6))]\n"
     ]
    }
   ],
   "source": [
    "db = Database()\n",
    "pk = data_pasien()\n",
    "data = [(\"Gabriel Leoxyrus\",\"Jl kenanga mawar\",240806),(\"Alex Abesamis\",\"Jl melati putih\",180303),(\"Mikhael Bright\",\"Jl kenangan mantan\",290700)]\n",
    "\n",
    "pk.insert_data_pasien_many(data)\n",
    "\n",
    "print(pk.tampil_data_pasien())"
   ]
  },
  {
   "cell_type": "code",
   "execution_count": 7,
   "id": "2a7c9e3a",
   "metadata": {},
   "outputs": [
    {
     "name": "stdout",
     "output_type": "stream",
     "text": [
      "1 record inserted.\n"
     ]
    },
    {
     "data": {
      "text/plain": [
       "78"
      ]
     },
     "execution_count": 7,
     "metadata": {},
     "output_type": "execute_result"
    }
   ],
   "source": [
    "data = (\"Alex Abesamis\", \"jl melati putih\", 180303)\n",
    "pk.insert_data_pasien(data)"
   ]
  },
  {
   "cell_type": "code",
   "execution_count": 9,
   "id": "c164cecc",
   "metadata": {},
   "outputs": [
    {
     "name": "stdout",
     "output_type": "stream",
     "text": [
      "1 record update.\n"
     ]
    }
   ],
   "source": [
    "pk.update_data_pasien(77, ('Mikael Bright', 'Jl kenangan mantan', 240806))"
   ]
  },
  {
   "cell_type": "code",
   "execution_count": 10,
   "id": "75e4d219",
   "metadata": {},
   "outputs": [
    {
     "name": "stdout",
     "output_type": "stream",
     "text": [
      "1 record deleted.\n"
     ]
    }
   ],
   "source": [
    "pk.delete_data_pasien(77)"
   ]
  },
  {
   "cell_type": "code",
   "execution_count": 11,
   "id": "838970e2",
   "metadata": {},
   "outputs": [
    {
     "name": "stdout",
     "output_type": "stream",
     "text": [
      "1 record deleted.\n"
     ]
    }
   ],
   "source": [
    "pk.delete_data_pasien(76)"
   ]
  },
  {
   "cell_type": "code",
   "execution_count": 12,
   "id": "a2b8e507",
   "metadata": {},
   "outputs": [
    {
     "name": "stdout",
     "output_type": "stream",
     "text": [
      "1 record deleted.\n"
     ]
    }
   ],
   "source": [
    "pk.delete_data_pasien(75)"
   ]
  },
  {
   "cell_type": "code",
   "execution_count": 13,
   "id": "5ef00ac7",
   "metadata": {},
   "outputs": [
    {
     "name": "stdout",
     "output_type": "stream",
     "text": [
      "1 record deleted.\n"
     ]
    }
   ],
   "source": [
    "pk.delete_data_pasien(78)"
   ]
  },
  {
   "cell_type": "code",
   "execution_count": 14,
   "id": "f7d2e8a0",
   "metadata": {},
   "outputs": [
    {
     "data": {
      "text/plain": [
       "[(3, 'Mikael Bright', 'Jl kenangan mantan', datetime.date(2024, 8, 6)),\n",
       " (2, 'Alex Abesamis', 'Jl melati putih', datetime.date(2018, 3, 3)),\n",
       " (1, 'Gabriel Leoxyrus', 'Jl kenanga mawar', datetime.date(2024, 8, 6))]"
      ]
     },
     "execution_count": 14,
     "metadata": {},
     "output_type": "execute_result"
    }
   ],
   "source": [
    "pk.tampil_data_pasien()"
   ]
  },
  {
   "cell_type": "code",
   "execution_count": 15,
   "id": "43431adb",
   "metadata": {},
   "outputs": [],
   "source": [
    "class data_dokter(Database):\n",
    "    \n",
    "    def tampil_data_dokter(self, mode=\"DESC\"):\n",
    "        sql = \"SELECT * FROM data_dokter ORDER BY id_pasien {}\".format(mode)\n",
    "        \n",
    "        try:\n",
    "            my_cursor.execute(sql)\n",
    "            result = my_cursor.fetchall()\n",
    "        except Exception as e:\n",
    "            return e\n",
    "        \n",
    "        return result\n",
    "    \n",
    "    def insert_data_dokter(self, data):\n",
    "        sql = \"INSERT INTO data_dokter (nama_dokter, alamat_dokter, id_pasien) VALUES (%s, %s, %s)\"\n",
    "        \n",
    "        try:\n",
    "            my_cursor.execute(sql, data)\n",
    "            my_db.commit()\n",
    "            print(my_cursor.rowcount, \"record inserted.\")    \n",
    "        except Exception as e:\n",
    "            return e\n",
    "        return my_cursor.lastrowid\n",
    "    \n",
    "    def insert_data_dokter_many(self, data):\n",
    "        \n",
    "        sql = \"INSERT INTO data_dokter (nama_dokter, alamat_dokter, id_pasien) VALUES (%s, %s, %s)\"\n",
    "        \n",
    "        try:\n",
    "            my_cursor.executemany(sql, data)\n",
    "            my_db.commit()\n",
    "            print(my_cursor.rowcount, \"record inserted.\")    \n",
    "        except Exception as e:\n",
    "            return e\n",
    "        \n",
    "    def delete_data_dokter(self, id):\n",
    "        sql = \"DELETE FROM data_dokter WHERE id_pasien = {}\".format(id)\n",
    "        \n",
    "        try:\n",
    "            my_cursor.execute(sql)\n",
    "            my_db.commit()\n",
    "            print(my_cursor.rowcount, \"record deleted.\")\n",
    "        except Exception as e:\n",
    "            return e\n",
    "        \n",
    "    def update_data_dokter(self, id, data):\n",
    "        sql = \"UPDATE data_dokter SET nama_dokter = %s, alamat_dokter = %s, id_pasien = %s WHERE id_pasien = {}\".format(id)\n",
    "        \n",
    "        val = (data[0], data[1], data[2])\n",
    "        \n",
    "        try:\n",
    "            my_cursor.execute(sql, val)\n",
    "            my_db.commit()\n",
    "            print(my_cursor.rowcount, \"record update.\")  \n",
    "        except Exception as e:\n",
    "            return e\n",
    "        \n",
    "    def truncate(self):\n",
    "        \n",
    "        sql = \"TRUNCATE TABLE data_dokter\"\n",
    "        try:\n",
    "            my_cursor.execute(sql)\n",
    "            my_db.commit()\n",
    "        except Exception as e:\n",
    "            return e\n",
    "        \n",
    "        return True"
   ]
  },
  {
   "cell_type": "code",
   "execution_count": 16,
   "id": "8121a7c3",
   "metadata": {},
   "outputs": [
    {
     "name": "stdout",
     "output_type": "stream",
     "text": [
      "3 record inserted.\n",
      "[(108, 'Ambar Brisia', 'Jl kapal hantu', 3), (112, 'Ambar Brisia', 'Jl kapal hantu', 3), (116, 'Ambar Brisia', 'Jl kapal hantu', 3), (115, 'Aranza Natlan', 'Jl kapal karam', 2), (114, 'Ica Pucaya', 'Jl gamonin dia', 1)]\n"
     ]
    }
   ],
   "source": [
    "db = Database\n",
    "dk = data_dokter()\n",
    "data = [\n",
    "    (\"Ica Pucaya\",\"Jl gamonin dia\",1),\n",
    "    (\"Aranza Natlan\",\"Jl kapal karam\",2),\n",
    "    (\"Ambar Brisia\",\"Jl kapal hantu\",3)\n",
    "]\n",
    "\n",
    "dk.insert_data_dokter_many(data)\n",
    "\n",
    "print(dk.tampil_data_dokter())"
   ]
  },
  {
   "cell_type": "code",
   "execution_count": 17,
   "id": "2de54c16",
   "metadata": {},
   "outputs": [
    {
     "name": "stdout",
     "output_type": "stream",
     "text": [
      "1 record inserted.\n"
     ]
    },
    {
     "data": {
      "text/plain": [
       "117"
      ]
     },
     "execution_count": 17,
     "metadata": {},
     "output_type": "execute_result"
    }
   ],
   "source": [
    "data = (\"Ica Pucaya\", \"Jl gamonin dia\", 1)\n",
    "dk.insert_data_dokter(data)"
   ]
  },
  {
   "cell_type": "code",
   "execution_count": 38,
   "id": "fb2ead2c",
   "metadata": {},
   "outputs": [
    {
     "name": "stdout",
     "output_type": "stream",
     "text": [
      "0 record update.\n"
     ]
    }
   ],
   "source": [
    "dk.update_data_dokter(1, ('Chika Pucaya', 'Jl gamonin dia', 1))"
   ]
  },
  {
   "cell_type": "code",
   "execution_count": 23,
   "id": "a1c02859",
   "metadata": {},
   "outputs": [
    {
     "name": "stdout",
     "output_type": "stream",
     "text": [
      "3 record deleted.\n"
     ]
    }
   ],
   "source": [
    "dk.delete_data_dokter(3)"
   ]
  },
  {
   "cell_type": "code",
   "execution_count": 24,
   "id": "fd090a1b",
   "metadata": {},
   "outputs": [
    {
     "data": {
      "text/plain": [
       "[(115, 'Aranza Natlan', 'Jl kapal karam', 2),\n",
       " (114, 'Ica Pucaya', 'Jl gamonin dia', 1),\n",
       " (117, 'Ica Pucaya', 'Jl gamonin dia', 1)]"
      ]
     },
     "execution_count": 24,
     "metadata": {},
     "output_type": "execute_result"
    }
   ],
   "source": [
    "dk.tampil_data_dokter()"
   ]
  },
  {
   "cell_type": "code",
   "execution_count": 25,
   "id": "b1c1ea94",
   "metadata": {},
   "outputs": [],
   "source": [
    "class obat_penyakit(Database):\n",
    "    \n",
    "    def tampil_obat_penyakit(self, mode=\"DESC\"):\n",
    "        sql = \"SELECT * FROM obat_penyakit ORDER BY id_pasien {}\".format(mode)\n",
    "        \n",
    "        try:\n",
    "            my_cursor.execute(sql)\n",
    "            result = my_cursor.fetchall()\n",
    "        except Exception as e:\n",
    "            return e\n",
    "        \n",
    "        return result\n",
    "    \n",
    "    def insert_obat_penyakit(self, data):\n",
    "        sql = \"INSERT INTO obat_penyakit (nama_obat, harga_obat, id_pasien) VALUES (%s, %s, %s)\"\n",
    "        \n",
    "        try:\n",
    "            my_cursor.execute(sql, data)\n",
    "            my_db.commit()\n",
    "            print(my_cursor.rowcount, \"record inserted.\")    \n",
    "        except Exception as e:\n",
    "            return e\n",
    "        return my_cursor.lastrowid\n",
    "    \n",
    "    def insert_obat_penyakit_many(self, data):\n",
    "        \n",
    "        sql = \"INSERT INTO obat_penyakit (nama_obat, harga_obat, id_pasien) VALUES (%s, %s, %s)\"\n",
    "        \n",
    "        try:\n",
    "            my_cursor.executemany(sql, data)\n",
    "            my_db.commit()\n",
    "            print(my_cursor.rowcount, \"record inserted.\")    \n",
    "        except Exception as e:\n",
    "            return e\n",
    "        \n",
    "    def delete_obat_penyakit(self, id):\n",
    "        sql = \"DELETE FROM obat_penyakit WHERE id_pasien = {}\".format(id)\n",
    "        \n",
    "        try:\n",
    "            my_cursor.execute(sql)\n",
    "            my_db.commit()\n",
    "            print(my_cursor.rowcount, \"record deleted.\")\n",
    "        except Exception as e:\n",
    "            return e\n",
    "        \n",
    "    def update_obat_penyakit(self, id, data):\n",
    "        sql = \"UPDATE obat_penyakit SET nama_obat = %s, harga_obat = %s, id_pasien = %s WHERE id_pasien = {}\".format(id)\n",
    "        \n",
    "        val = (data[0], data[1], data[2])\n",
    "        \n",
    "        try:\n",
    "            my_cursor.execute(sql, val)\n",
    "            my_db.commit()\n",
    "            print(my_cursor.rowcount, \"record update.\")  \n",
    "        except Exception as e:\n",
    "            return e\n",
    "        \n",
    "    def truncate(self):\n",
    "        \n",
    "        sql = \"TRUNCATE TABLE obat_penyakit\"\n",
    "        try:\n",
    "            my_cursor.execute(sql)\n",
    "            my_db.commit()\n",
    "        except Exception as e:\n",
    "            return e\n",
    "        \n",
    "        return True"
   ]
  },
  {
   "cell_type": "code",
   "execution_count": 28,
   "id": "180e2ae1",
   "metadata": {},
   "outputs": [
    {
     "name": "stdout",
     "output_type": "stream",
     "text": [
      "3 record inserted.\n",
      "[(27, 'sangobion', 13500, 3), (31, 'sangobion', 13500, 3), (34, 'sangobion', 13500, 3), (26, 'promag', 22500, 2), (30, 'promag', 22500, 2), (33, 'promag', 22500, 2), (29, 'mylanta', 7000, 1), (32, 'mylanta', 7000, 1)]\n"
     ]
    }
   ],
   "source": [
    "db = Database\n",
    "op = obat_penyakit()\n",
    "data = [\n",
    "    (\"mylanta\",7000,1),\n",
    "    (\"promag\",22500,2),\n",
    "    (\"sangobion\",13500,3)\n",
    "]\n",
    "\n",
    "ok.insert_obat_penyakit_many(data)\n",
    "\n",
    "print(ok.tampil_obat_penyakit())"
   ]
  },
  {
   "cell_type": "code",
   "execution_count": 29,
   "id": "3692a87a",
   "metadata": {},
   "outputs": [
    {
     "name": "stdout",
     "output_type": "stream",
     "text": [
      "1 record inserted.\n"
     ]
    },
    {
     "data": {
      "text/plain": [
       "35"
      ]
     },
     "execution_count": 29,
     "metadata": {},
     "output_type": "execute_result"
    }
   ],
   "source": [
    "data = (\"mylanta\", 7000, 1)\n",
    "op.insert_obat_penyakit(data)"
   ]
  },
  {
   "cell_type": "code",
   "execution_count": 37,
   "id": "8fbac734",
   "metadata": {},
   "outputs": [
    {
     "name": "stdout",
     "output_type": "stream",
     "text": [
      "3 record update.\n"
     ]
    }
   ],
   "source": [
    "op.update_obat_penyakit(2, ('promag cair', 22500, 2))"
   ]
  },
  {
   "cell_type": "code",
   "execution_count": 39,
   "id": "bba63436",
   "metadata": {},
   "outputs": [
    {
     "name": "stdout",
     "output_type": "stream",
     "text": [
      "3 record deleted.\n"
     ]
    }
   ],
   "source": [
    "op.delete_obat_penyakit(2)"
   ]
  },
  {
   "cell_type": "code",
   "execution_count": 40,
   "id": "e5bfe850",
   "metadata": {},
   "outputs": [
    {
     "data": {
      "text/plain": [
       "[(27, 'sangobion', 13500, 3),\n",
       " (31, 'sangobion', 13500, 3),\n",
       " (34, 'sangobion', 13500, 3),\n",
       " (29, 'mylanta cair', 7000, 1),\n",
       " (32, 'mylanta cair', 7000, 1),\n",
       " (35, 'mylanta cair', 7000, 1)]"
      ]
     },
     "execution_count": 40,
     "metadata": {},
     "output_type": "execute_result"
    }
   ],
   "source": [
    "op.tampil_obat_penyakit()"
   ]
  },
  {
   "cell_type": "code",
   "execution_count": null,
   "id": "91fee3da",
   "metadata": {},
   "outputs": [],
   "source": []
  },
  {
   "cell_type": "code",
   "execution_count": null,
   "id": "6258a3f7",
   "metadata": {},
   "outputs": [],
   "source": []
  }
 ],
 "metadata": {
  "kernelspec": {
   "display_name": "Python 3 (ipykernel)",
   "language": "python",
   "name": "python3"
  },
  "language_info": {
   "codemirror_mode": {
    "name": "ipython",
    "version": 3
   },
   "file_extension": ".py",
   "mimetype": "text/x-python",
   "name": "python",
   "nbconvert_exporter": "python",
   "pygments_lexer": "ipython3",
   "version": "3.9.12"
  }
 },
 "nbformat": 4,
 "nbformat_minor": 5
}
